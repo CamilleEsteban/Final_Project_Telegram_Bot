{
 "cells": [
  {
   "cell_type": "code",
   "execution_count": 40,
   "metadata": {},
   "outputs": [],
   "source": [
    "import json\n",
    "from textblob import TextBlob\n",
    "from vaderSentiment.vaderSentiment import SentimentIntensityAnalyzer"
   ]
  },
  {
   "cell_type": "code",
   "execution_count": 41,
   "metadata": {},
   "outputs": [],
   "source": [
    "#scraped_reviews = {}\n",
    "\n",
    "with open('ptp_scraped_dict.json', 'r') as jsonfile:\n",
    "    scraped_reviews = json.loads(jsonfile.read())"
   ]
  },
  {
   "cell_type": "code",
   "execution_count": 42,
   "metadata": {},
   "outputs": [],
   "source": [
    "about_easeofA = ['grade','grades','pass','passing','curve','curving','curves','terror','easy A','kawawa','fairly','fair','fail','fails','failed','deserve','harsh','plus points','minus','deductions','credit','suffer']\n",
    "about_learning = ['learn','learned','knows','understood','value','valuable','understanding','understand','fave','favorite','favourite','engaging','learning','fun','topic','topics','lesson','lessons','mark','marks']\n",
    "about_discussions = ['teach','teaches','teaching','discuss','discusses','discussing','discussion','discussions','lecture','lectures','listen','clear','thorough','examples','chill','strict','sleep','nap','sleeping','napping','decorum','funny','humor','jokes','joke','mood','moods']\n",
    "about_quizdifficulty = ['test','tests','quiz','quizzes','lt','lts','assignments','exam','exams','examinations','assessments','exercises','question','problem','problems''questions','items','seatwork','seatworks','bonus','points','scores','effort','study']\n",
    "about_deadlines = ['chance','chances','mercy','deadline','deadlines','extend','extends','extension','extensions','time','allow','allows','adjust','adjusts','adjustments','workload','work load']\n",
    "about_consideration = ['approachable','nice','nicest','consider','considers','considerate','care','cares','caring','consultation','consultations','consult','cut','cuts','forgiving','motherly','fatherly','attendance','checks','bonus','partial']"
   ]
  },
  {
   "cell_type": "code",
   "execution_count": 43,
   "metadata": {},
   "outputs": [],
   "source": [
    "prof_grades = {}\n",
    "\n",
    "for prof_reviews in scraped_reviews:\n",
    "    name = prof_reviews\n",
    "    overall_reviews = [\".\".join(scraped_reviews[prof_reviews][i]) for i in scraped_reviews[prof_reviews]]\n",
    "    \n",
    "    def specific_reviews(about_list):\n",
    "        reviews = []\n",
    "        for review in overall_reviews:\n",
    "            sentences = review.lower().split(\".\")\n",
    "            for sentence in sentences:\n",
    "                for word in about_list:\n",
    "                    if word in sentence:\n",
    "                        if sentence in reviews: continue\n",
    "                        else: reviews.append(sentence)\n",
    "        return reviews\n",
    "        \n",
    "    def rating(reviews):\n",
    "        try:\n",
    "            # TextBlob\n",
    "            textblob_rating = sum((TextBlob(review).sentiment.polarity) for review in reviews) / len(reviews)\n",
    "            # VaderSentiment\n",
    "            vader_rating = sum(SentimentIntensityAnalyzer().polarity_scores(review)['compound'] for review in reviews) / len(reviews)\n",
    "        except: return \"no reviews\"\n",
    "        raw_rating = (textblob_rating + vader_rating) / 2\n",
    "        return \"{:.1f}/10\".format((5 + (raw_rating / 2 * 10)))\n",
    "    \n",
    "    def aggregate(reviews):\n",
    "        try:\n",
    "            # TextBlob\n",
    "            textblob_rating = sum((TextBlob(review).sentiment.polarity) for review in reviews) / len(reviews)\n",
    "            # VaderSentiment\n",
    "            vader_rating = sum(SentimentIntensityAnalyzer().polarity_scores(review)['compound'] for review in reviews) / len(reviews)\n",
    "        except: return \"no reviews\"\n",
    "        raw_rating = (textblob_rating + vader_rating) / 2\n",
    "        return \"{:.1f}/60\".format(6*(5 + (raw_rating / 2 * 10)))\n",
    "\n",
    "    #prof_grades_string = {name:\"Overall Score: {}\".format(rating(specific_reviews(about_easeofA)))+\"\\nDeadlines: {}\".format(rating(specific_reviews(about_deadlines)))+\"\\nDiscussions: {}\".format(rating(specific_reviews(about_discussions)))+\"\\nLearning: {}\".format(rating(specific_reviews(about_learning)))+\"\\nConsideration: {}\".format(rating(specific_reviews(about_consideration)))+\"\\nQuiz Difficulty: {}\".format(rating(specific_reviews(about_quizdifficulty)))+\"\\nEase of A: {}\".format(rating(specific_reviews(about_easeofA)))}\n",
    "    #print(prof_grades_string)\n",
    "    \n",
    "    prof_grades[name] = \"Based on Ateneo Profs to Pick:\"+\"\\nOverall Score: {}\".format(rating(specific_reviews(about_easeofA)))+\"\\nDeadlines: {}\".format(rating(specific_reviews(about_deadlines)))+\"\\nDiscussions: {}\".format(rating(specific_reviews(about_discussions)))+\"\\nLearning: {}\".format(rating(specific_reviews(about_learning)))+\"\\nConsideration: {}\".format(rating(specific_reviews(about_consideration)))+\"\\nQuiz Difficulty: {}\".format(rating(specific_reviews(about_quizdifficulty)))+\"\\nEase of A: {}\\n\\n\".format(rating(specific_reviews(about_easeofA)))\n",
    "\n",
    "with open('prof_ratings_final.csv', 'w', newline = '') as csv_file:\n",
    "    writer = csv.writer(csv_file)\n",
    "    for row in prof_grades.items():\n",
    "        writer.writerow(row)"
   ]
  },
  {
   "cell_type": "code",
   "execution_count": 44,
   "metadata": {},
   "outputs": [
    {
     "data": {
      "text/plain": [
       "{'SIA, Calvin': 'Based on Ateneo Profs to Pick:\\nOverall Score: 5.5/10\\nDeadlines: 8.1/10\\nDiscussions: 6.9/10\\nLearning: 7.0/10\\nConsideration: 7.4/10\\nQuiz Difficulty: 7.2/10\\nEase of A: 5.5/10\\n\\n',\n",
       " 'GARCES, IAN JUNE L.': 'Based on Ateneo Profs to Pick:\\nOverall Score: 5.0/10\\nDeadlines: 5.9/10\\nDiscussions: 6.4/10\\nLearning: 6.5/10\\nConsideration: 5.3/10\\nQuiz Difficulty: 5.8/10\\nEase of A: 5.0/10\\n\\n',\n",
       " 'BUOT, JUDE C.': 'Based on Ateneo Profs to Pick:\\nOverall Score: 6.2/10\\nDeadlines: 6.5/10\\nDiscussions: 6.4/10\\nLearning: 6.2/10\\nConsideration: 6.6/10\\nQuiz Difficulty: 6.1/10\\nEase of A: 6.2/10\\n\\n',\n",
       " 'SANTOS, DURWIN C.': 'Based on Ateneo Profs to Pick:\\nOverall Score: 7.7/10\\nDeadlines: no reviews\\nDiscussions: 6.9/10\\nLearning: 7.2/10\\nConsideration: 6.7/10\\nQuiz Difficulty: 6.2/10\\nEase of A: 7.7/10\\n\\n',\n",
       " 'SEGISMUNDO, Jasper John': 'Based on Ateneo Profs to Pick:\\nOverall Score: 7.1/10\\nDeadlines: 5.9/10\\nDiscussions: 7.2/10\\nLearning: 7.2/10\\nConsideration: 6.9/10\\nQuiz Difficulty: 6.5/10\\nEase of A: 7.1/10\\n\\n',\n",
       " 'EDEN, RICHARD B.': 'Based on Ateneo Profs to Pick:\\nOverall Score: 6.5/10\\nDeadlines: 7.5/10\\nDiscussions: 6.4/10\\nLearning: 7.1/10\\nConsideration: 7.2/10\\nQuiz Difficulty: 6.3/10\\nEase of A: 6.5/10\\n\\n',\n",
       " 'MARCELO, REGINALDO M.': 'Based on Ateneo Profs to Pick:\\nOverall Score: 6.8/10\\nDeadlines: 6.5/10\\nDiscussions: 6.3/10\\nLearning: 6.3/10\\nConsideration: 6.2/10\\nQuiz Difficulty: 6.0/10\\nEase of A: 6.8/10\\n\\n',\n",
       " 'MIRO, EDEN DELIGHT P.': 'Based on Ateneo Profs to Pick:\\nOverall Score: no reviews\\nDeadlines: no reviews\\nDiscussions: 5.0/10\\nLearning: no reviews\\nConsideration: 7.4/10\\nQuiz Difficulty: no reviews\\nEase of A: no reviews\\n\\n',\n",
       " 'DUMBRIQUE, JAKOV IVAN S.': 'Based on Ateneo Profs to Pick:\\nOverall Score: 7.1/10\\nDeadlines: 6.1/10\\nDiscussions: 7.4/10\\nLearning: 6.8/10\\nConsideration: 7.1/10\\nQuiz Difficulty: 6.7/10\\nEase of A: 7.1/10\\n\\n',\n",
       " 'TOLENTINO, MARK ANTHONY C.': 'Based on Ateneo Profs to Pick:\\nOverall Score: 6.3/10\\nDeadlines: 6.5/10\\nDiscussions: 6.7/10\\nLearning: 7.1/10\\nConsideration: 7.5/10\\nQuiz Difficulty: 6.4/10\\nEase of A: 6.3/10\\n\\n',\n",
       " 'TABARES, WINFER C.': 'Based on Ateneo Profs to Pick:\\nOverall Score: 6.1/10\\nDeadlines: 5.7/10\\nDiscussions: 6.7/10\\nLearning: 6.1/10\\nConsideration: 7.1/10\\nQuiz Difficulty: 5.8/10\\nEase of A: 6.1/10\\n\\n',\n",
       " 'VASWANI, SERENA M.': 'Based on Ateneo Profs to Pick:\\nOverall Score: 6.5/10\\nDeadlines: 8.0/10\\nDiscussions: 7.6/10\\nLearning: 7.8/10\\nConsideration: 7.1/10\\nQuiz Difficulty: 6.7/10\\nEase of A: 6.5/10\\n\\n',\n",
       " 'ONG, LU CHRISTIAN S.': 'Based on Ateneo Profs to Pick:\\nOverall Score: 6.4/10\\nDeadlines: 5.6/10\\nDiscussions: 5.0/10\\nLearning: 5.5/10\\nConsideration: 6.0/10\\nQuiz Difficulty: 6.2/10\\nEase of A: 6.4/10\\n\\n',\n",
       " 'GO, CLARK KENDRICK C.': 'Based on Ateneo Profs to Pick:\\nOverall Score: 6.8/10\\nDeadlines: 4.8/10\\nDiscussions: 7.0/10\\nLearning: 7.2/10\\nConsideration: 6.4/10\\nQuiz Difficulty: 6.5/10\\nEase of A: 6.8/10\\n\\n',\n",
       " 'BATALLER, RAMIL T.': 'Based on Ateneo Profs to Pick:\\nOverall Score: 6.1/10\\nDeadlines: 6.6/10\\nDiscussions: 6.8/10\\nLearning: 6.3/10\\nConsideration: 6.4/10\\nQuiz Difficulty: 6.0/10\\nEase of A: 6.1/10\\n\\n',\n",
       " 'LEE-CHUA, QUEENA N.': 'Based on Ateneo Profs to Pick:\\nOverall Score: 6.4/10\\nDeadlines: 6.3/10\\nDiscussions: 6.6/10\\nLearning: 7.2/10\\nConsideration: 7.2/10\\nQuiz Difficulty: 6.2/10\\nEase of A: 6.4/10\\n\\n',\n",
       " 'GUZON, ANGELA FATIMA H.': 'Based on Ateneo Profs to Pick:\\nOverall Score: 6.2/10\\nDeadlines: 5.7/10\\nDiscussions: 5.7/10\\nLearning: 6.1/10\\nConsideration: 6.6/10\\nQuiz Difficulty: 6.1/10\\nEase of A: 6.2/10\\n\\n',\n",
       " 'CHAN SHIO, CHRISTIAN PAUL O.': 'Based on Ateneo Profs to Pick:\\nOverall Score: 7.6/10\\nDeadlines: 7.6/10\\nDiscussions: 7.0/10\\nLearning: 7.6/10\\nConsideration: 7.0/10\\nQuiz Difficulty: 6.7/10\\nEase of A: 7.6/10\\n\\n',\n",
       " 'FADRI, Raymond Joseph': 'Based on Ateneo Profs to Pick:\\nOverall Score: 6.2/10\\nDeadlines: 5.3/10\\nDiscussions: 7.6/10\\nLearning: no reviews\\nConsideration: 7.8/10\\nQuiz Difficulty: 6.6/10\\nEase of A: 6.2/10\\n\\n',\n",
       " 'LOYOLA, MARK L.': 'Based on Ateneo Profs to Pick:\\nOverall Score: 6.9/10\\nDeadlines: 6.5/10\\nDiscussions: 7.1/10\\nLearning: 6.5/10\\nConsideration: 7.1/10\\nQuiz Difficulty: 6.5/10\\nEase of A: 6.9/10\\n\\n',\n",
       " 'DAYAO, PAUL L.': 'Based on Ateneo Profs to Pick:\\nOverall Score: 7.5/10\\nDeadlines: 6.6/10\\nDiscussions: 7.6/10\\nLearning: 7.6/10\\nConsideration: 8.0/10\\nQuiz Difficulty: 7.4/10\\nEase of A: 7.5/10\\n\\n',\n",
       " 'SALDANA, RAFAEL P.': 'Based on Ateneo Profs to Pick:\\nOverall Score: 7.2/10\\nDeadlines: 6.1/10\\nDiscussions: 6.7/10\\nLearning: 5.9/10\\nConsideration: 7.4/10\\nQuiz Difficulty: 6.4/10\\nEase of A: 7.2/10\\n\\n',\n",
       " 'BUOT, JUDE C., GARCES, IAN JUNE L., TOLENTINO, MARK ANTHONY C.': 'Based on Ateneo Profs to Pick:\\nOverall Score: 6.8/10\\nDeadlines: 6.5/10\\nDiscussions: 6.3/10\\nLearning: 5.9/10\\nConsideration: 6.2/10\\nQuiz Difficulty: 5.9/10\\nEase of A: 6.8/10\\n\\n',\n",
       " 'YAP, ROMINA ANN S.': 'Based on Ateneo Profs to Pick:\\nOverall Score: 6.7/10\\nDeadlines: 7.5/10\\nDiscussions: 6.7/10\\nLearning: 8.0/10\\nConsideration: 7.0/10\\nQuiz Difficulty: 6.6/10\\nEase of A: 6.7/10\\n\\n',\n",
       " 'FRANCISCO, FLORDELIZA F.': 'Based on Ateneo Profs to Pick:\\nOverall Score: 6.1/10\\nDeadlines: 6.0/10\\nDiscussions: 6.3/10\\nLearning: 6.5/10\\nConsideration: 5.7/10\\nQuiz Difficulty: 5.6/10\\nEase of A: 6.1/10\\n\\n',\n",
       " 'CAPELLAN, John Ashley': 'Based on Ateneo Profs to Pick:\\nOverall Score: 7.8/10\\nDeadlines: no reviews\\nDiscussions: 7.6/10\\nLearning: no reviews\\nConsideration: no reviews\\nQuiz Difficulty: no reviews\\nEase of A: 7.8/10\\n\\n',\n",
       " 'GATPATAN, JANREE RUARK C.': 'Based on Ateneo Profs to Pick:\\nOverall Score: 5.8/10\\nDeadlines: 6.4/10\\nDiscussions: 6.7/10\\nLearning: 6.8/10\\nConsideration: 6.7/10\\nQuiz Difficulty: 6.4/10\\nEase of A: 5.8/10\\n\\n',\n",
       " 'DAVID, RODEN JASON A.': 'Based on Ateneo Profs to Pick:\\nOverall Score: 6.0/10\\nDeadlines: 5.6/10\\nDiscussions: 6.1/10\\nLearning: 5.8/10\\nConsideration: 6.3/10\\nQuiz Difficulty: 5.9/10\\nEase of A: 6.0/10\\n\\n',\n",
       " 'ABERIN, MARIA ALVA Q.': 'Based on Ateneo Profs to Pick:\\nOverall Score: 5.5/10\\nDeadlines: 5.0/10\\nDiscussions: 6.0/10\\nLearning: 6.5/10\\nConsideration: 7.4/10\\nQuiz Difficulty: 4.9/10\\nEase of A: 5.5/10\\n\\n',\n",
       " 'DOMINGO, EURLYNE J.': 'Based on Ateneo Profs to Pick:\\nOverall Score: 6.1/10\\nDeadlines: 6.8/10\\nDiscussions: 6.9/10\\nLearning: 7.3/10\\nConsideration: 6.9/10\\nQuiz Difficulty: 6.3/10\\nEase of A: 6.1/10\\n\\n',\n",
       " 'TAN, KI SHAN T.': 'Based on Ateneo Profs to Pick:\\nOverall Score: 6.2/10\\nDeadlines: 6.0/10\\nDiscussions: 6.5/10\\nLearning: 7.2/10\\nConsideration: 7.2/10\\nQuiz Difficulty: 5.9/10\\nEase of A: 6.2/10\\n\\n',\n",
       " 'CABRAL, EMMANUEL A.': 'Based on Ateneo Profs to Pick:\\nOverall Score: 6.4/10\\nDeadlines: 4.6/10\\nDiscussions: 6.6/10\\nLearning: 6.7/10\\nConsideration: 6.6/10\\nQuiz Difficulty: 5.6/10\\nEase of A: 6.4/10\\n\\n',\n",
       " 'SARMIENTO, JUMELA F.': 'Based on Ateneo Profs to Pick:\\nOverall Score: 6.1/10\\nDeadlines: 4.8/10\\nDiscussions: 7.3/10\\nLearning: 5.0/10\\nConsideration: 4.9/10\\nQuiz Difficulty: 6.0/10\\nEase of A: 6.1/10\\n\\n'}"
      ]
     },
     "execution_count": 44,
     "metadata": {},
     "output_type": "execute_result"
    }
   ],
   "source": [
    "prof_ratings = {}\n",
    "\n",
    "with open('prof_ratings_final.csv', 'r') as csv_file:\n",
    "    reader = csv.reader(csv_file)\n",
    "    for r in reader:\n",
    "        prof_ratings[r[0]] = r[1]\n",
    "        \n",
    "prof_ratings"
   ]
  }
 ],
 "metadata": {
  "kernelspec": {
   "display_name": "Python 3",
   "language": "python",
   "name": "python3"
  },
  "language_info": {
   "codemirror_mode": {
    "name": "ipython",
    "version": 3
   },
   "file_extension": ".py",
   "mimetype": "text/x-python",
   "name": "python",
   "nbconvert_exporter": "python",
   "pygments_lexer": "ipython3",
   "version": "3.7.6"
  }
 },
 "nbformat": 4,
 "nbformat_minor": 4
}
